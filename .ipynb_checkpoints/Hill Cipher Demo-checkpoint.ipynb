{
 "cells": [
  {
   "cell_type": "markdown",
   "metadata": {},
   "source": [
    "## About iPython Notebooks ##\n",
    "\n",
    "iPython Notebooks are interactive coding environments embedded in a webpage. \n",
    "\n",
    "You can run the cell by either pressing \"SHIFT\"+\"ENTER\" or by clicking on \"Run Cell\" (denoted by a play symbol) in the upper bar of the notebook. \n",
    "\n",
    "*REMEMBER TO RUN EACH CELL*\n",
    "\n",
    "**Exercise**: Run the variable intializer `intro` in the cell below to print \"Hello World\" and run the two cells below."
   ]
  },
  {
   "cell_type": "code",
   "execution_count": null,
   "metadata": {},
   "outputs": [],
   "source": [
    "# press \"SHIFT + ENTER\" to initialize variable \"intro\"\n",
    "intro = \"Hello World\""
   ]
  },
  {
   "cell_type": "code",
   "execution_count": null,
   "metadata": {
    "scrolled": false
   },
   "outputs": [],
   "source": [
    "# press \"SHIFT + ENTER\"\n",
    "print(intro)"
   ]
  },
  {
   "cell_type": "markdown",
   "metadata": {},
   "source": [
    "## Hill Cipher##\n",
    "\n",
    "### Convert Code to Vector###"
   ]
  },
  {
   "cell_type": "code",
   "execution_count": null,
   "metadata": {},
   "outputs": [],
   "source": [
    "import numpy as np \n",
    "import math\n",
    "\n",
    "key_size = 2\n",
    "message = input(\"Enter a 4 letter word: \")\n",
    "message = message.upper()\n",
    "\n",
    "message_values = []\n",
    "for letter in message:\n",
    "    letter = ord(letter) - 65\n",
    "    message_values.append(letter)\n",
    "message_values = np.asarray(message_values,dtype=int)\n",
    "print(\"The first vector for message values are {} .\".format(message_values[0:2]))\n",
    "print(\"The first vector for message values are {} .\".format(message_values[2:4]))\n",
    "#encryption(message_values, key)"
   ]
  },
  {
   "cell_type": "code",
   "execution_count": null,
   "metadata": {},
   "outputs": [],
   "source": [
    "a = np.array([])\n",
    "a = [[0] * key_size for i in range(key_size)]\n",
    "# print(a)\n",
    "for i in range(key_size):\n",
    "    for j in range(key_size):\n",
    "        a[i][j] = input(\"For row {}, column {} of the key matrix, enter the number : \".format(i,j))\n",
    "print (\"Your key matrix is: {}\".format(a))"
   ]
  },
  {
   "cell_type": "code",
   "execution_count": null,
   "metadata": {},
   "outputs": [],
   "source": [
    "key_matrix = np.asarray(a,dtype=int)\n",
    "\n",
    "first_vector = key_matrix.dot(message_values[0:2])\n",
    "second_vector = key_matrix.dot(message_values[2:4])\n",
    "print(\"The resulting tranformed vectors are: {}{}\".format(first_vector,second_vector))\n",
    "\n",
    "# return first_vector, second_vector\n",
    "\n",
    "first_vector = first_vector % 29\n",
    "second_vector = second_vector % 29\n",
    "print(\"The corresponding mod 29 numbers to the transformed vectors are: {}{}\".format(first_vector, second_vector))\n",
    "\n",
    "first_vector_letter = [chr(i+65) for i in first_vector]\n",
    "second_vector_letter = [chr(i+65) for i in second_vector]\n",
    "print(\"The corresponding letters to the mod 26 transformed vectors are: {}{}\".format(first_vector_letter, second_vector_letter))\n",
    "\n",
    "#key_matrix_inverse(key_matrix,first_vector,second_vector)"
   ]
  },
  {
   "cell_type": "code",
   "execution_count": null,
   "metadata": {},
   "outputs": [],
   "source": [
    "determinant = round(np.linalg.det(key_matrix))\n",
    "print(\"The determinant is: {}\".format(determinant))\n",
    "\n",
    "\n",
    "new_matrix = key_matrix\n",
    "# print(new_matrix)\n",
    "fourth_key = key_matrix[0][0]\n",
    "new_matrix[0][0] = key_matrix[1][1]\n",
    "new_matrix[0][1] = key_matrix[0][1] * -1\n",
    "new_matrix[1][0] = key_matrix[1][0] * -1\n",
    "new_matrix[1][1] = fourth_key\n",
    "print(\"The inverse key matrix is: {}\".format(new_matrix))\n",
    "\n",
    "try:\n",
    "    for i in range(1, 26):\n",
    "        if ((determinant * i) % 29 ==1):\n",
    "            new_scalar = i\n",
    "            #print(i)\n",
    "            inverse_matrix = (new_scalar * new_matrix) % 29\n",
    "    #decrypt(one,two,reverse_matrix)\n",
    "except:\n",
    "    print(\"There is no modular multiplicative inverse.\")\n",
    "\n",
    "\n",
    "print(\"The inverse matrix in mod 29 form is: {}\".format(inverse_matrix))"
   ]
  },
  {
   "cell_type": "code",
   "execution_count": null,
   "metadata": {},
   "outputs": [],
   "source": [
    "first_returned = inverse_matrix.dot(first_vector) % 29\n",
    "second_returned = inverse_matrix.dot(second_vector) % 29\n",
    "\n",
    "\n",
    "first_returned_letter = [chr(i+65) for i in first_returned]\n",
    "second_returned_letter = [chr(i+65) for i in second_returned]\n",
    "joined_return = first_returned_letter + second_returned_letter\n",
    "joined_print = ''.join(joined_return)\n",
    "print(\"Your original message is: {}!\".format(joined_print))"
   ]
  }
 ],
 "metadata": {
  "kernelspec": {
   "display_name": "Python 3",
   "language": "python",
   "name": "python3"
  },
  "language_info": {
   "codemirror_mode": {
    "name": "ipython",
    "version": 3
   },
   "file_extension": ".py",
   "mimetype": "text/x-python",
   "name": "python",
   "nbconvert_exporter": "python",
   "pygments_lexer": "ipython3",
   "version": "3.7.4"
  }
 },
 "nbformat": 4,
 "nbformat_minor": 2
}
