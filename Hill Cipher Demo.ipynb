{
 "cells": [
  {
   "cell_type": "markdown",
   "metadata": {},
   "source": [
    "## About iPython Notebooks ##\n",
    "\n",
    "iPython Notebooks are interactive coding environments embedded in a webpage. \n",
    "\n",
    "You can run the cell by either pressing \"SHIFT\"+\"ENTER\" or by clicking on \"Run Cell\" (denoted by a play symbol) in the upper bar of the notebook. \n",
    "\n",
    "*REMEMBER TO RUN EACH CELL*\n",
    "\n",
    "**Exercise**: Run the variable intializer `intro` in the cell below to print \"Hello World\" and run the two cells below."
   ]
  },
  {
   "cell_type": "code",
   "execution_count": null,
   "metadata": {},
   "outputs": [],
   "source": [
    "# press \"SHIFT + ENTER\" to initialize variable \"intro\"\n",
    "intro = \"Hello World\""
   ]
  },
  {
   "cell_type": "code",
   "execution_count": null,
   "metadata": {
    "scrolled": false
   },
   "outputs": [],
   "source": [
    "# press \"SHIFT + ENTER\"\n",
    "print(intro)"
   ]
  },
  {
   "cell_type": "markdown",
   "metadata": {},
   "source": [
    "## Hill Cipher##\n",
    "\n",
    "### 1. Converts 4 Letter Word to Vector###"
   ]
  },
  {
   "cell_type": "code",
   "execution_count": null,
   "metadata": {},
   "outputs": [],
   "source": [
    "# libraries #\n",
    "from start import *\n",
    "import numpy as np \n",
    "import math\n",
    "\n",
    "\n",
    "key_size = 2 #sets key size as 2x2 matrix\n",
    "message = input(\"Enter a 4 letter word: \") # stores user input as message \n",
    "message = message.upper() #converts to upper case\n",
    "\n",
    "message_values = [] #creates empty list\n",
    "for letter in message: #loops around letters in message\n",
    "    letter = ord(letter) - 65 #converts letters to number\n",
    "    message_values.append(letter) #stores numbers in list\n",
    "message_values = np.asarray(message_values,dtype=int)\n",
    "print(\"The first vector for message values are {} .\".format(message_values[0:2])) #prints first 2x1 vector\n",
    "print(\"The first vector for message values are {} .\".format(message_values[2:4])) #prints second 2x1 vector"
   ]
  },
  {
   "cell_type": "markdown",
   "metadata": {},
   "source": [
    "### 2. Asks for corresponding key matrix value ###"
   ]
  },
  {
   "cell_type": "code",
   "execution_count": null,
   "metadata": {},
   "outputs": [],
   "source": [
    "a = np.array([]) #creates empty array\n",
    "a = [[0] * key_size for i in range(key_size)] \n",
    "\n",
    "# loops through array 'a' and appends values #\n",
    "for i in range(key_size): \n",
    "    for j in range(key_size): \n",
    "        a[i][j] = input(\"For row {} , column {} (0 corresponds to first row/column and 1 to second row/column) of the key matrix, enter a single digit number : \".format(i,j)) #asks for matrix value input 4 times (2x2 matrix)\n",
    "print (\"Your key matrix is: {}\".format(a)) #prints key matrix"
   ]
  },
  {
   "cell_type": "markdown",
   "metadata": {},
   "source": [
    "### Displays Transformed Vector, Transformed Vector in Mod 29 & Corresponding Letters of Ciphertext###"
   ]
  },
  {
   "cell_type": "code",
   "execution_count": null,
   "metadata": {},
   "outputs": [],
   "source": [
    "key_matrix = np.asarray(a,dtype=int)\n",
    "\n",
    "first_vector = key_matrix.dot(message_values[0:2]) # '.dot' function does a matrix multiplication of key matrix and first 2x1 message\n",
    "second_vector = key_matrix.dot(message_values[2:4]) # stores matrix multiplication of key matrix and second 2x1 message\n",
    "print(\"The resulting tranformed vectors are: {}{}\".format(first_vector,second_vector)) #prints both matrix multiplication results\n",
    "\n",
    "first_vector = first_vector % 29 #applies mod 29 to first transformed vector\n",
    "second_vector = second_vector % 29 #applies mod 29 to second transformed vector\n",
    "print(\"The corresponding mod 29 numbers to the transformed vectors are: {}{}\".format(first_vector, second_vector)) #prints tranformed mod 29 vectors\n",
    "\n",
    "first_vector_letter = [chr(i+65) for i in first_vector] #converts first transformed mod 29 vector back to characters (ie. ciphertext)\n",
    "second_vector_letter = [chr(i+65) for i in second_vector] #converts second transformed mod 29 vector back to characters\n",
    "print(\"The corresponding letters to the mod 26 transformed vectors are: {}{}\".format(first_vector_letter, second_vector_letter)) #prints ciphertext\n"
   ]
  },
  {
   "cell_type": "markdown",
   "metadata": {},
   "source": [
    "### Displays Determinant, Adjugate, Multiplicative Inverse mod 29, and Inverse Matrix###"
   ]
  },
  {
   "cell_type": "code",
   "execution_count": null,
   "metadata": {},
   "outputs": [],
   "source": [
    "determinant = round(np.linalg.det(key_matrix)) #calculates determinant\n",
    "print(\"The determinant is: {}\".format(determinant)) #prints determinant\n",
    "\n",
    "# creating adjugate (ie. [a b c d] becomes [d -b -c a]) #\n",
    "new_matrix = key_matrix\n",
    "fourth_key = key_matrix[0][0] \n",
    "new_matrix[0][0] = key_matrix[1][1] # replaces a with d\n",
    "new_matrix[0][1] = key_matrix[0][1] * -1 #converts b to -b\n",
    "new_matrix[1][0] = key_matrix[1][0] * -1 #converts c to -c\n",
    "new_matrix[1][1] = fourth_key # replaces d with a\n",
    "print(\"The inverse key matrix is: {}\".format(new_matrix)) #prints adjugate\n",
    "\n",
    "try:\n",
    "    for i in range(1, 26): #loops through numbers 1-26 to find mod 29 multiplicative inverse \n",
    "        if ((determinant * i) % 29 ==1): #if determinant times 'i' mod 29 is equal to 1, scalar is 'i'\n",
    "            new_scalar = i\n",
    "            #print(i)\n",
    "            inverse_matrix = (new_scalar * new_matrix) % 29 #multiplies scalar (ie. 'i') by adjugate and then converts to mod 29\n",
    "except:\n",
    "    print(\"There is no modular multiplicative inverse.\") # error message if no multiplicative inverse found\n",
    "\n",
    "\n",
    "print(\"The inverse matrix in mod 29 form is: {}\".format(inverse_matrix)) #prints inverse matrix mod 29 "
   ]
  },
  {
   "cell_type": "markdown",
   "metadata": {},
   "source": [
    "### Displays Matrix Multiplication in mod 29, Converts Result to Characters and Prints Original Message###"
   ]
  },
  {
   "cell_type": "code",
   "execution_count": null,
   "metadata": {},
   "outputs": [],
   "source": [
    "first_returned = inverse_matrix.dot(first_vector) % 29 # stores matrix multiplication of first cipher text and inverse matrix mod 29\n",
    "second_returned = inverse_matrix.dot(second_vector) % 29 # stores matrix multiplication of second cipher text and inverse matrix mod 29\n",
    "\n",
    "\n",
    "first_returned_letter = [chr(i+65) for i in first_returned] #converts first resulting vector back to character form\n",
    "second_returned_letter = [chr(i+65) for i in second_returned] #converts second resulting vector back to character form\n",
    "joined_return = first_returned_letter + second_returned_letter\n",
    "joined_print = ''.join(joined_return) #joins first and second vector to recreate original message\n",
    "print(\"Your original message is: {}!\".format(joined_print))"
   ]
  },
  {
   "cell_type": "code",
   "execution_count": null,
   "metadata": {},
   "outputs": [],
   "source": []
  }
 ],
 "metadata": {
  "kernelspec": {
   "display_name": "Python 3.7.4 64-bit",
   "language": "python",
   "name": "python37464bita31b55b50c054515bf678d6fec68be0f"
  },
  "language_info": {
   "codemirror_mode": {
    "name": "ipython",
    "version": 3
   },
   "file_extension": ".py",
   "mimetype": "text/x-python",
   "name": "python",
   "nbconvert_exporter": "python",
   "pygments_lexer": "ipython3",
   "version": "3.7.4-final"
  }
 },
 "nbformat": 4,
 "nbformat_minor": 2
}