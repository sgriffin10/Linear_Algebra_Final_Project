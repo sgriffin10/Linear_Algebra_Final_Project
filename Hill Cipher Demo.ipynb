{
 "cells": [
  {
   "cell_type": "markdown",
   "metadata": {},
   "source": [
    "## About iPython Notebooks ##\n",
    "\n",
    "iPython Notebooks are interactive coding environments embedded in a webpage. \n",
    "\n",
    "You can run the cell by either pressing \"SHIFT\"+\"ENTER\" or by clicking on \"Run Cell\" (denoted by a play symbol) in the upper bar of the notebook. \n",
    "\n",
    "*REMEMBER TO RUN EACH CELL*\n",
    "\n",
    "**Exercise**: Run the variable intializer `intro` in the cell below to print \"Hello World\" and run the two cells below."
   ]
  },
  {
   "cell_type": "code",
   "execution_count": 6,
   "metadata": {},
   "outputs": [],
   "source": [
    "# press \"SHIFT + ENTER\" to initialize variable \"intro\"\n",
    "intro = \"Hello World\""
   ]
  },
  {
   "cell_type": "code",
   "execution_count": 7,
   "metadata": {
    "scrolled": false
   },
   "outputs": [
    {
     "output_type": "stream",
     "name": "stdout",
     "text": "Hello World\n"
    }
   ],
   "source": [
    "# press \"SHIFT + ENTER\"\n",
    "print(intro)"
   ]
  },
  {
   "cell_type": "markdown",
   "metadata": {},
   "source": [
    "## Hill Cipher##\n",
    "\n",
    "### 1. Converts 4 Letter Word to Vector###"
   ]
  },
  {
   "cell_type": "code",
   "execution_count": 8,
   "metadata": {},
   "outputs": [
    {
     "output_type": "stream",
     "name": "stdout",
     "text": "-----------\nThe first vector for message values are [7 4] .\nThe first vector for message values are [11 15] .\n"
    }
   ],
   "source": [
    "# libraries #\n",
    "from start import *\n",
    "import numpy as np \n",
    "import math\n",
    "\n",
    "\n",
    "key_size = 2 #sets key size as 2x2 matrix\n",
    "message = input(\"Enter a 4 letter word: \") # stores user input as message \n",
    "message = message.upper() #converts to upper case\n",
    "\n",
    "message_values = [] #creates empty list\n",
    "for letter in message: #loops around letters in message\n",
    "    letter = ord(letter) - 65 #converts letters to number\n",
    "    message_values.append(letter) #stores numbers in list\n",
    "message_values = np.asarray(message_values,dtype=int)\n",
    "print(\"-----------\")\n",
    "print(\"The first vector for message values are {} .\".format(message_values[0:2])) #prints first 2x1 vector\n",
    "print(\"The first vector for message values are {} .\".format(message_values[2:4])) #prints second 2x1 vector"
   ]
  },
  {
   "cell_type": "markdown",
   "metadata": {},
   "source": [
    "### 2. Asks for corresponding key matrix value ###"
   ]
  },
  {
   "cell_type": "code",
   "execution_count": 3,
   "metadata": {},
   "outputs": [
    {
     "output_type": "stream",
     "name": "stdout",
     "text": "-----------\nYour key matrix is: [['3', '3'], ['2', '5']]\n"
    }
   ],
   "source": [
    "a = np.array([]) #creates empty array\n",
    "a = [[0] * key_size for i in range(key_size)] \n",
    "\n",
    "# loops through array 'a' and appends values #\n",
    "for i in range(key_size): \n",
    "    for j in range(key_size): \n",
    "        a[i][j] = input(\"For row {} , column {} (0 corresponds to first row/column and 1 to second row/column) of the key matrix, enter a non-zero single digit number : \".format(i,j)) #asks for matrix value input 4 times (2x2 matrix)\n",
    "print (\"Your key matrix is: {}\".format(a)) #prints key matrix"
   ]
  },
  {
   "cell_type": "markdown",
   "metadata": {},
   "source": [
    "### Displays Transformed Vector, Transformed Vector in Mod 29 & Corresponding Letters of Ciphertext###"
   ]
  },
  {
   "cell_type": "code",
   "execution_count": 18,
   "metadata": {},
   "outputs": [
    {
     "output_type": "stream",
     "name": "stdout",
     "text": "The key multiplied by both [7 4] and [11 15] is equal to: \n[33 34][78 97]\n\nThe corresponding mod 29 numbers to the transformed vectors are: [4 5][20 10]\n\nThe corresponding letters to the mod 29 transformed vectors above are: ['E', 'F']['U', 'K']\n"
    }
   ],
   "source": [
    "key_matrix = np.asarray(a,dtype=int)\n",
    "\n",
    "first_vector = key_matrix.dot(message_values[0:2]) # '.dot' function does a matrix multiplication of key matrix and first 2x1 message\n",
    "second_vector = key_matrix.dot(message_values[2:4]) # stores matrix multiplication of key matrix and second 2x1 message\n",
    "print(\"The key multiplied by both {} and {} is equal to: \".format(message_values[0:2], message_values[2:4]))\n",
    "print(\"{}{}\".format(first_vector,second_vector)) #prints both matrix multiplication results\n",
    "\n",
    "first_vector = first_vector % 29 #applies mod 29 to first transformed vector\n",
    "second_vector = second_vector % 29 #applies mod 29 to second transformed vector\n",
    "print(\"\")\n",
    "print(\"The corresponding mod 29 numbers to the transformed vectors are: {}{}\".format(first_vector, second_vector)) #prints tranformed mod 29 vectors\n",
    "\n",
    "first_vector_letter = [chr(i+65) for i in first_vector] #converts first transformed mod 29 vector back to characters (ie. ciphertext)\n",
    "second_vector_letter = [chr(i+65) for i in second_vector] #converts second transformed mod 29 vector back to characters\n",
    "print(\"\")\n",
    "print(\"The corresponding letters to the mod 29 transformed vectors above are: {}{}\".format(first_vector_letter, second_vector_letter)) #prints ciphertext\n"
   ]
  },
  {
   "cell_type": "markdown",
   "metadata": {},
   "source": [
    "### Displays Determinant, Adjugate, Multiplicative Inverse mod 29, and Inverse Matrix###"
   ]
  },
  {
   "cell_type": "code",
   "execution_count": 29,
   "metadata": {},
   "outputs": [
    {
     "output_type": "stream",
     "name": "stdout",
     "text": "The determinant is: 9.0\n\nThe adjugate matrix is: [[ 5 -3]\n [-2  3]]\n\nThe multiplicative inverse mod 29 for the determinant is: 13\n\nTherefore, the inverse matrix will be: 13 * [[ 5 -3]\n [-2  3]]\nWhich is equal to: [[ 65 -39]\n [-26  39]]\n\nThe inverse matrix in mod 29 form is: [[ 7 19]\n [ 3 10]]\n"
    }
   ],
   "source": [
    "determinant = round(np.linalg.det(key_matrix)) #calculates determinant\n",
    "print(\"The determinant is: {}\".format(determinant)) #prints determinant\n",
    "\n",
    "# creating adjugate (ie. [a b c d] becomes [d -b -c a]) #\n",
    "new_matrix = key_matrix\n",
    "fourth_key = key_matrix[0][0] \n",
    "new_matrix[0][0] = key_matrix[1][1] # replaces a with d\n",
    "new_matrix[0][1] = key_matrix[0][1] * -1 #converts b to -b\n",
    "new_matrix[1][0] = key_matrix[1][0] * -1 #converts c to -c\n",
    "new_matrix[1][1] = fourth_key # replaces d with a\n",
    "print(\"\")\n",
    "print(\"The adjugate matrix is: {}\".format(new_matrix)) #prints adjugate\n",
    "\n",
    "try:\n",
    "    for i in range(1, 26): #loops through numbers 1-26 to find mod 29 multiplicative inverse \n",
    "        if ((determinant * i) % 29 ==1): #if determinant times 'i' mod 29 is equal to 1, scalar is 'i'\n",
    "            new_scalar = i\n",
    "            print(\"\")\n",
    "            print(\"The multiplicative inverse mod 29 for the determinant is: {}\".format(i)) #prints multiplicative inverse\n",
    "            print(\"\")\n",
    "            print(\"Therefore, the inverse matrix will be: {} * {}\".format(i,new_matrix)) \n",
    "            inverse_matrix = (new_scalar * new_matrix) #multiplies scalar (ie. 'i') by adjugate \n",
    "            print(\"Which is equal to: {}\".format(inverse_matrix))\n",
    "            mod_29_inverse = inverse_matrix % 29 # converts inverse matrix to mod 29\n",
    "\n",
    "except:\n",
    "    print(\"There is no modular multiplicative inverse.\") # error message if no multiplicative inverse found\n",
    "\n",
    "print(\"\")\n",
    "print(\"The inverse matrix in mod 29 form is: {}\".format(mod_29_inverse)) #prints inverse matrix mod 29 "
   ]
  },
  {
   "cell_type": "markdown",
   "metadata": {},
   "source": [
    "### Displays Matrix Multiplication in mod 29, Converts Result to Characters and Prints Original Message###"
   ]
  },
  {
   "cell_type": "code",
   "execution_count": 35,
   "metadata": {},
   "outputs": [
    {
     "output_type": "stream",
     "name": "stdout",
     "text": "The inverse matrix mod 29, [[ 7 19]\n [ 3 10]], multipled by the cipher text [4 5] and [20 10] gives us our original values: [7 4] and [11 15]\n\nYour original message is: HELP!\n"
    }
   ],
   "source": [
    "first_returned = inverse_matrix.dot(first_vector) % 29 # stores matrix multiplication of first cipher text and inverse matrix mod 29\n",
    "second_returned = inverse_matrix.dot(second_vector) % 29 # stores matrix multiplication of second cipher text and inverse matrix mod 29\n",
    "print(\"The inverse matrix mod 29, {}, multipled by the cipher text {} and {} gives us our original values: {} and {}\".format(mod_29_inverse, first_vector, second_vector, message_values[0:2], message_values[2:4]))\n",
    "\n",
    "\n",
    "first_returned_letter = [chr(i+65) for i in first_returned] #converts first resulting vector back to character form\n",
    "second_returned_letter = [chr(i+65) for i in second_returned] #converts second resulting vector back to character form\n",
    "joined_return = first_returned_letter + second_returned_letter\n",
    "joined_print = ''.join(joined_return) #joins first and second vector to recreate original message\n",
    "print(\"\")\n",
    "print(\"Your original message is: {}!\".format(joined_print))"
   ]
  },
  {
   "cell_type": "code",
   "execution_count": null,
   "metadata": {},
   "outputs": [],
   "source": []
  }
 ],
 "metadata": {
  "kernelspec": {
   "display_name": "Python 3.7.4 64-bit",
   "language": "python",
   "name": "python37464bita31b55b50c054515bf678d6fec68be0f"
  },
  "language_info": {
   "codemirror_mode": {
    "name": "ipython",
    "version": 3
   },
   "file_extension": ".py",
   "mimetype": "text/x-python",
   "name": "python",
   "nbconvert_exporter": "python",
   "pygments_lexer": "ipython3",
   "version": "3.7.4-final"
  }
 },
 "nbformat": 4,
 "nbformat_minor": 2
}